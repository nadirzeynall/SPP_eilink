{
 "cells": [
  {
   "cell_type": "code",
   "execution_count": 83,
   "id": "annoying-sociology",
   "metadata": {},
   "outputs": [],
   "source": [
    "from urllib.parse import urlparse\n",
    "\n",
    "import pandas as pd\n",
    "from sklearn.preprocessing import LabelEncoder\n",
    "from sklearn.model_selection import train_test_split\n",
    "from sklearn.linear_model import LogisticRegression\n",
    "from sklearn.tree import DecisionTreeClassifier\n",
    "from sklearn.ensemble import RandomForestClassifier\n",
    "from sklearn.metrics import (accuracy_score, precision_score, recall_score, f1_score,\n",
    "                             roc_auc_score, classification_report)\n",
    "import mlflow\n",
    "import mlflow.sklearn"
   ]
  },
  {
   "cell_type": "code",
   "execution_count": 84,
   "id": "91605436",
   "metadata": {},
   "outputs": [],
   "source": [
    "# http://16.171.23.137:5000"
   ]
  },
  {
   "cell_type": "code",
   "execution_count": 85,
   "id": "substantial-comedy",
   "metadata": {},
   "outputs": [
    {
     "data": {
      "text/plain": [
       "<Experiment: artifact_location='s3://awsbucketformlflow/709931596279444773', creation_time=1693905531961, experiment_id='709931596279444773', last_update_time=1693905531961, lifecycle_stage='active', name='taras', tags={}>"
      ]
     },
     "execution_count": 85,
     "metadata": {},
     "output_type": "execute_result"
    }
   ],
   "source": [
    "mlflow.set_tracking_uri(\"http://16.171.23.137:5000\")\n",
    "mlflow.set_experiment('taras')\n",
    "# mlflow.set_tracking_uri(\"sqlite:///mlflow.db\")\n",
    "# mlflow.set_experiment(\"taras_sqlite\")"
   ]
  },
  {
   "cell_type": "code",
   "execution_count": 86,
   "id": "nervous-aquatic",
   "metadata": {},
   "outputs": [],
   "source": [
    "tracking_uri = mlflow.get_tracking_uri()"
   ]
  },
  {
   "cell_type": "code",
   "execution_count": 87,
   "id": "comprehensive-future",
   "metadata": {},
   "outputs": [
    {
     "data": {
      "text/plain": [
       "'http://16.171.23.137:5000'"
      ]
     },
     "execution_count": 87,
     "metadata": {},
     "output_type": "execute_result"
    }
   ],
   "source": [
    "tracking_uri"
   ]
  },
  {
   "cell_type": "code",
   "execution_count": 88,
   "id": "strategic-parameter",
   "metadata": {},
   "outputs": [],
   "source": [
    "data = pd.read_csv(\"data/aug_train.csv\")\n",
    "targets = data[[\"target\"]]\n",
    "data.drop([\"enrollee_id\", \"target\"], inplace=True, axis=1)"
   ]
  },
  {
   "cell_type": "code",
   "execution_count": 89,
   "id": "worse-headquarters",
   "metadata": {},
   "outputs": [],
   "source": [
    "categorical_features = []\n",
    "numerical_features = []\n",
    "\n",
    "for column in data.columns:\n",
    "    dtype = str(data[column].dtype)\n",
    "    if dtype in [\"float64\", \"int64\"]:\n",
    "        numerical_features.append(column)\n",
    "    else:\n",
    "        categorical_features.append(column)"
   ]
  },
  {
   "cell_type": "code",
   "execution_count": 90,
   "id": "computational-browser",
   "metadata": {},
   "outputs": [],
   "source": [
    "for categorical_feature in categorical_features:\n",
    "    data[categorical_feature].fillna('missing', inplace=True)"
   ]
  },
  {
   "cell_type": "code",
   "execution_count": 91,
   "id": "atmospheric-volume",
   "metadata": {},
   "outputs": [],
   "source": [
    "for categorical_feature in categorical_features:\n",
    "    le = LabelEncoder()\n",
    "    data[categorical_feature] = le.fit_transform(data[categorical_feature])"
   ]
  },
  {
   "cell_type": "code",
   "execution_count": 92,
   "id": "liable-diameter",
   "metadata": {},
   "outputs": [],
   "source": [
    "x_train, x_test, y_train, y_test = train_test_split(data.values, \n",
    "                                                    targets.values.ravel(), \n",
    "                                                    test_size=0.3, \n",
    "                                                    random_state=2021,\n",
    "                                                    stratify=targets.values)"
   ]
  },
  {
   "cell_type": "code",
   "execution_count": 93,
   "id": "painful-diagnosis",
   "metadata": {},
   "outputs": [
    {
     "name": "stdout",
     "output_type": "stream",
     "text": [
      "(13410, 12) (5748, 12)\n"
     ]
    }
   ],
   "source": [
    "print(x_train.shape, x_test.shape)"
   ]
  },
  {
   "cell_type": "code",
   "execution_count": 94,
   "id": "collect-clark",
   "metadata": {},
   "outputs": [
    {
     "name": "stdout",
     "output_type": "stream",
     "text": [
      "(13410,) (5748,)\n"
     ]
    }
   ],
   "source": [
    "print(y_train.shape, y_test.shape)"
   ]
  },
  {
   "cell_type": "code",
   "execution_count": 95,
   "id": "double-safety",
   "metadata": {},
   "outputs": [
    {
     "name": "stderr",
     "output_type": "stream",
     "text": [
      "c:\\jupyter\\python3114\\Lib\\site-packages\\_distutils_hack\\__init__.py:18: UserWarning: Distutils was imported before Setuptools, but importing Setuptools also replaces the `distutils` module in `sys.modules`. This may lead to undesirable behaviors or errors. To avoid these issues, avoid using distutils directly, ensure that setuptools is installed in the traditional way (e.g. not an editable install), and/or make sure that setuptools is always imported before distutils.\n",
      "  warnings.warn(\n",
      "c:\\jupyter\\python3114\\Lib\\site-packages\\_distutils_hack\\__init__.py:33: UserWarning: Setuptools is replacing distutils.\n",
      "  warnings.warn(\"Setuptools is replacing distutils.\")\n"
     ]
    },
    {
     "ename": "NoCredentialsError",
     "evalue": "Unable to locate credentials",
     "output_type": "error",
     "traceback": [
      "\u001b[1;31m---------------------------------------------------------------------------\u001b[0m",
      "\u001b[1;31mNoCredentialsError\u001b[0m                        Traceback (most recent call last)",
      "Cell \u001b[1;32mIn[95], line 28\u001b[0m\n\u001b[0;32m     25\u001b[0m mlflow\u001b[39m.\u001b[39mlog_metric(\u001b[39m\"\u001b[39m\u001b[39mf1\u001b[39m\u001b[39m\"\u001b[39m, f1)\n\u001b[0;32m     26\u001b[0m mlflow\u001b[39m.\u001b[39mlog_metric(\u001b[39m\"\u001b[39m\u001b[39mauc\u001b[39m\u001b[39m\"\u001b[39m, auc) \n\u001b[1;32m---> 28\u001b[0m mlflow\u001b[39m.\u001b[39;49msklearn\u001b[39m.\u001b[39;49mlog_model(logistic_regression, \u001b[39m\"\u001b[39;49m\u001b[39mtaras_test\u001b[39;49m\u001b[39m\"\u001b[39;49m)\n",
      "File \u001b[1;32mc:\\jupyter\\python3114\\Lib\\site-packages\\mlflow\\sklearn\\__init__.py:408\u001b[0m, in \u001b[0;36mlog_model\u001b[1;34m(sk_model, artifact_path, conda_env, code_paths, serialization_format, registered_model_name, signature, input_example, await_registration_for, pip_requirements, extra_pip_requirements, pyfunc_predict_fn, metadata)\u001b[0m\n\u001b[0;32m    328\u001b[0m \u001b[39m@format_docstring\u001b[39m(LOG_MODEL_PARAM_DOCS\u001b[39m.\u001b[39mformat(package_name\u001b[39m=\u001b[39m\u001b[39m\"\u001b[39m\u001b[39mscikit-learn\u001b[39m\u001b[39m\"\u001b[39m))\n\u001b[0;32m    329\u001b[0m \u001b[39mdef\u001b[39;00m \u001b[39mlog_model\u001b[39m(\n\u001b[0;32m    330\u001b[0m     sk_model,\n\u001b[1;32m   (...)\u001b[0m\n\u001b[0;32m    342\u001b[0m     metadata\u001b[39m=\u001b[39m\u001b[39mNone\u001b[39;00m,\n\u001b[0;32m    343\u001b[0m ):\n\u001b[0;32m    344\u001b[0m \u001b[39m    \u001b[39m\u001b[39m\"\"\"\u001b[39;00m\n\u001b[0;32m    345\u001b[0m \u001b[39m    Log a scikit-learn model as an MLflow artifact for the current run. Produces an MLflow Model\u001b[39;00m\n\u001b[0;32m    346\u001b[0m \u001b[39m    containing the following flavors:\u001b[39;00m\n\u001b[1;32m   (...)\u001b[0m\n\u001b[0;32m    406\u001b[0m \n\u001b[0;32m    407\u001b[0m \u001b[39m    \"\"\"\u001b[39;00m\n\u001b[1;32m--> 408\u001b[0m     \u001b[39mreturn\u001b[39;00m Model\u001b[39m.\u001b[39;49mlog(\n\u001b[0;32m    409\u001b[0m         artifact_path\u001b[39m=\u001b[39;49martifact_path,\n\u001b[0;32m    410\u001b[0m         flavor\u001b[39m=\u001b[39;49mmlflow\u001b[39m.\u001b[39;49msklearn,\n\u001b[0;32m    411\u001b[0m         sk_model\u001b[39m=\u001b[39;49msk_model,\n\u001b[0;32m    412\u001b[0m         conda_env\u001b[39m=\u001b[39;49mconda_env,\n\u001b[0;32m    413\u001b[0m         code_paths\u001b[39m=\u001b[39;49mcode_paths,\n\u001b[0;32m    414\u001b[0m         serialization_format\u001b[39m=\u001b[39;49mserialization_format,\n\u001b[0;32m    415\u001b[0m         registered_model_name\u001b[39m=\u001b[39;49mregistered_model_name,\n\u001b[0;32m    416\u001b[0m         signature\u001b[39m=\u001b[39;49msignature,\n\u001b[0;32m    417\u001b[0m         input_example\u001b[39m=\u001b[39;49minput_example,\n\u001b[0;32m    418\u001b[0m         await_registration_for\u001b[39m=\u001b[39;49mawait_registration_for,\n\u001b[0;32m    419\u001b[0m         pip_requirements\u001b[39m=\u001b[39;49mpip_requirements,\n\u001b[0;32m    420\u001b[0m         extra_pip_requirements\u001b[39m=\u001b[39;49mextra_pip_requirements,\n\u001b[0;32m    421\u001b[0m         pyfunc_predict_fn\u001b[39m=\u001b[39;49mpyfunc_predict_fn,\n\u001b[0;32m    422\u001b[0m         metadata\u001b[39m=\u001b[39;49mmetadata,\n\u001b[0;32m    423\u001b[0m     )\n",
      "File \u001b[1;32mc:\\jupyter\\python3114\\Lib\\site-packages\\mlflow\\models\\model.py:580\u001b[0m, in \u001b[0;36mModel.log\u001b[1;34m(cls, artifact_path, flavor, registered_model_name, await_registration_for, metadata, **kwargs)\u001b[0m\n\u001b[0;32m    578\u001b[0m     _logger\u001b[39m.\u001b[39mwarning(_LOG_MODEL_MISSING_SIGNATURE_WARNING)\n\u001b[0;32m    579\u001b[0m flavor\u001b[39m.\u001b[39msave_model(path\u001b[39m=\u001b[39mlocal_path, mlflow_model\u001b[39m=\u001b[39mmlflow_model, \u001b[39m*\u001b[39m\u001b[39m*\u001b[39mkwargs)\n\u001b[1;32m--> 580\u001b[0m mlflow\u001b[39m.\u001b[39;49mtracking\u001b[39m.\u001b[39;49mfluent\u001b[39m.\u001b[39;49mlog_artifacts(local_path, mlflow_model\u001b[39m.\u001b[39;49martifact_path)\n\u001b[0;32m    581\u001b[0m \u001b[39mtry\u001b[39;00m:\n\u001b[0;32m    582\u001b[0m     mlflow\u001b[39m.\u001b[39mtracking\u001b[39m.\u001b[39mfluent\u001b[39m.\u001b[39m_record_logged_model(mlflow_model)\n",
      "File \u001b[1;32mc:\\jupyter\\python3114\\Lib\\site-packages\\mlflow\\tracking\\fluent.py:911\u001b[0m, in \u001b[0;36mlog_artifacts\u001b[1;34m(local_dir, artifact_path)\u001b[0m\n\u001b[0;32m    881\u001b[0m \u001b[39m\u001b[39m\u001b[39m\"\"\"\u001b[39;00m\n\u001b[0;32m    882\u001b[0m \u001b[39mLog all the contents of a local directory as artifacts of the run. If no run is active,\u001b[39;00m\n\u001b[0;32m    883\u001b[0m \u001b[39mthis method will create a new active run.\u001b[39;00m\n\u001b[1;32m   (...)\u001b[0m\n\u001b[0;32m    908\u001b[0m \u001b[39m        mlflow.log_artifacts(\"data\", artifact_path=\"states\")\u001b[39;00m\n\u001b[0;32m    909\u001b[0m \u001b[39m\"\"\"\u001b[39;00m\n\u001b[0;32m    910\u001b[0m run_id \u001b[39m=\u001b[39m _get_or_start_run()\u001b[39m.\u001b[39minfo\u001b[39m.\u001b[39mrun_id\n\u001b[1;32m--> 911\u001b[0m MlflowClient()\u001b[39m.\u001b[39;49mlog_artifacts(run_id, local_dir, artifact_path)\n",
      "File \u001b[1;32mc:\\jupyter\\python3114\\Lib\\site-packages\\mlflow\\tracking\\client.py:1137\u001b[0m, in \u001b[0;36mMlflowClient.log_artifacts\u001b[1;34m(self, run_id, local_dir, artifact_path)\u001b[0m\n\u001b[0;32m   1093\u001b[0m \u001b[39mdef\u001b[39;00m \u001b[39mlog_artifacts\u001b[39m(\n\u001b[0;32m   1094\u001b[0m     \u001b[39mself\u001b[39m, run_id: \u001b[39mstr\u001b[39m, local_dir: \u001b[39mstr\u001b[39m, artifact_path: Optional[\u001b[39mstr\u001b[39m] \u001b[39m=\u001b[39m \u001b[39mNone\u001b[39;00m\n\u001b[0;32m   1095\u001b[0m ) \u001b[39m-\u001b[39m\u001b[39m>\u001b[39m \u001b[39mNone\u001b[39;00m:\n\u001b[0;32m   1096\u001b[0m \u001b[39m    \u001b[39m\u001b[39m\"\"\"\u001b[39;00m\n\u001b[0;32m   1097\u001b[0m \u001b[39m    Write a directory of files to the remote ``artifact_uri``.\u001b[39;00m\n\u001b[0;32m   1098\u001b[0m \n\u001b[1;32m   (...)\u001b[0m\n\u001b[0;32m   1135\u001b[0m \u001b[39m        is_dir: True\u001b[39;00m\n\u001b[0;32m   1136\u001b[0m \u001b[39m    \"\"\"\u001b[39;00m\n\u001b[1;32m-> 1137\u001b[0m     \u001b[39mself\u001b[39;49m\u001b[39m.\u001b[39;49m_tracking_client\u001b[39m.\u001b[39;49mlog_artifacts(run_id, local_dir, artifact_path)\n",
      "File \u001b[1;32mc:\\jupyter\\python3114\\Lib\\site-packages\\mlflow\\tracking\\_tracking_service\\client.py:465\u001b[0m, in \u001b[0;36mTrackingServiceClient.log_artifacts\u001b[1;34m(self, run_id, local_dir, artifact_path)\u001b[0m\n\u001b[0;32m    458\u001b[0m \u001b[39mdef\u001b[39;00m \u001b[39mlog_artifacts\u001b[39m(\u001b[39mself\u001b[39m, run_id, local_dir, artifact_path\u001b[39m=\u001b[39m\u001b[39mNone\u001b[39;00m):\n\u001b[0;32m    459\u001b[0m \u001b[39m    \u001b[39m\u001b[39m\"\"\"\u001b[39;00m\n\u001b[0;32m    460\u001b[0m \u001b[39m    Write a directory of files to the remote ``artifact_uri``.\u001b[39;00m\n\u001b[0;32m    461\u001b[0m \n\u001b[0;32m    462\u001b[0m \u001b[39m    :param local_dir: Path to the directory of files to write.\u001b[39;00m\n\u001b[0;32m    463\u001b[0m \u001b[39m    :param artifact_path: If provided, the directory in ``artifact_uri`` to write to.\u001b[39;00m\n\u001b[0;32m    464\u001b[0m \u001b[39m    \"\"\"\u001b[39;00m\n\u001b[1;32m--> 465\u001b[0m     \u001b[39mself\u001b[39;49m\u001b[39m.\u001b[39;49m_get_artifact_repo(run_id)\u001b[39m.\u001b[39;49mlog_artifacts(local_dir, artifact_path)\n",
      "File \u001b[1;32mc:\\jupyter\\python3114\\Lib\\site-packages\\mlflow\\store\\artifact\\s3_artifact_repo.py:170\u001b[0m, in \u001b[0;36mS3ArtifactRepository.log_artifacts\u001b[1;34m(self, local_dir, artifact_path)\u001b[0m\n\u001b[0;32m    168\u001b[0m     upload_path \u001b[39m=\u001b[39m posixpath\u001b[39m.\u001b[39mjoin(dest_path, rel_path)\n\u001b[0;32m    169\u001b[0m \u001b[39mfor\u001b[39;00m f \u001b[39min\u001b[39;00m filenames:\n\u001b[1;32m--> 170\u001b[0m     \u001b[39mself\u001b[39;49m\u001b[39m.\u001b[39;49m_upload_file(\n\u001b[0;32m    171\u001b[0m         s3_client\u001b[39m=\u001b[39;49ms3_client,\n\u001b[0;32m    172\u001b[0m         local_file\u001b[39m=\u001b[39;49mos\u001b[39m.\u001b[39;49mpath\u001b[39m.\u001b[39;49mjoin(root, f),\n\u001b[0;32m    173\u001b[0m         bucket\u001b[39m=\u001b[39;49mbucket,\n\u001b[0;32m    174\u001b[0m         key\u001b[39m=\u001b[39;49mposixpath\u001b[39m.\u001b[39;49mjoin(upload_path, f),\n\u001b[0;32m    175\u001b[0m     )\n",
      "File \u001b[1;32mc:\\jupyter\\python3114\\Lib\\site-packages\\mlflow\\store\\artifact\\s3_artifact_repo.py:146\u001b[0m, in \u001b[0;36mS3ArtifactRepository._upload_file\u001b[1;34m(self, s3_client, local_file, bucket, key)\u001b[0m\n\u001b[0;32m    144\u001b[0m \u001b[39mif\u001b[39;00m environ_extra_args \u001b[39mis\u001b[39;00m \u001b[39mnot\u001b[39;00m \u001b[39mNone\u001b[39;00m:\n\u001b[0;32m    145\u001b[0m     extra_args\u001b[39m.\u001b[39mupdate(environ_extra_args)\n\u001b[1;32m--> 146\u001b[0m s3_client\u001b[39m.\u001b[39;49mupload_file(Filename\u001b[39m=\u001b[39;49mlocal_file, Bucket\u001b[39m=\u001b[39;49mbucket, Key\u001b[39m=\u001b[39;49mkey, ExtraArgs\u001b[39m=\u001b[39;49mextra_args)\n",
      "File \u001b[1;32mc:\\jupyter\\python3114\\Lib\\site-packages\\boto3\\s3\\inject.py:143\u001b[0m, in \u001b[0;36mupload_file\u001b[1;34m(self, Filename, Bucket, Key, ExtraArgs, Callback, Config)\u001b[0m\n\u001b[0;32m    108\u001b[0m \u001b[39m\u001b[39m\u001b[39m\"\"\"Upload a file to an S3 object.\u001b[39;00m\n\u001b[0;32m    109\u001b[0m \n\u001b[0;32m    110\u001b[0m \u001b[39mUsage::\u001b[39;00m\n\u001b[1;32m   (...)\u001b[0m\n\u001b[0;32m    140\u001b[0m \u001b[39m    transfer.\u001b[39;00m\n\u001b[0;32m    141\u001b[0m \u001b[39m\"\"\"\u001b[39;00m\n\u001b[0;32m    142\u001b[0m \u001b[39mwith\u001b[39;00m S3Transfer(\u001b[39mself\u001b[39m, Config) \u001b[39mas\u001b[39;00m transfer:\n\u001b[1;32m--> 143\u001b[0m     \u001b[39mreturn\u001b[39;00m transfer\u001b[39m.\u001b[39;49mupload_file(\n\u001b[0;32m    144\u001b[0m         filename\u001b[39m=\u001b[39;49mFilename,\n\u001b[0;32m    145\u001b[0m         bucket\u001b[39m=\u001b[39;49mBucket,\n\u001b[0;32m    146\u001b[0m         key\u001b[39m=\u001b[39;49mKey,\n\u001b[0;32m    147\u001b[0m         extra_args\u001b[39m=\u001b[39;49mExtraArgs,\n\u001b[0;32m    148\u001b[0m         callback\u001b[39m=\u001b[39;49mCallback,\n\u001b[0;32m    149\u001b[0m     )\n",
      "File \u001b[1;32mc:\\jupyter\\python3114\\Lib\\site-packages\\boto3\\s3\\transfer.py:292\u001b[0m, in \u001b[0;36mS3Transfer.upload_file\u001b[1;34m(self, filename, bucket, key, callback, extra_args)\u001b[0m\n\u001b[0;32m    288\u001b[0m future \u001b[39m=\u001b[39m \u001b[39mself\u001b[39m\u001b[39m.\u001b[39m_manager\u001b[39m.\u001b[39mupload(\n\u001b[0;32m    289\u001b[0m     filename, bucket, key, extra_args, subscribers\n\u001b[0;32m    290\u001b[0m )\n\u001b[0;32m    291\u001b[0m \u001b[39mtry\u001b[39;00m:\n\u001b[1;32m--> 292\u001b[0m     future\u001b[39m.\u001b[39;49mresult()\n\u001b[0;32m    293\u001b[0m \u001b[39m# If a client error was raised, add the backwards compatibility layer\u001b[39;00m\n\u001b[0;32m    294\u001b[0m \u001b[39m# that raises a S3UploadFailedError. These specific errors were only\u001b[39;00m\n\u001b[0;32m    295\u001b[0m \u001b[39m# ever thrown for upload_parts but now can be thrown for any related\u001b[39;00m\n\u001b[0;32m    296\u001b[0m \u001b[39m# client error.\u001b[39;00m\n\u001b[0;32m    297\u001b[0m \u001b[39mexcept\u001b[39;00m ClientError \u001b[39mas\u001b[39;00m e:\n",
      "File \u001b[1;32mc:\\jupyter\\python3114\\Lib\\site-packages\\s3transfer\\futures.py:103\u001b[0m, in \u001b[0;36mTransferFuture.result\u001b[1;34m(self)\u001b[0m\n\u001b[0;32m     98\u001b[0m \u001b[39mdef\u001b[39;00m \u001b[39mresult\u001b[39m(\u001b[39mself\u001b[39m):\n\u001b[0;32m     99\u001b[0m     \u001b[39mtry\u001b[39;00m:\n\u001b[0;32m    100\u001b[0m         \u001b[39m# Usually the result() method blocks until the transfer is done,\u001b[39;00m\n\u001b[0;32m    101\u001b[0m         \u001b[39m# however if a KeyboardInterrupt is raised we want want to exit\u001b[39;00m\n\u001b[0;32m    102\u001b[0m         \u001b[39m# out of this and propagate the exception.\u001b[39;00m\n\u001b[1;32m--> 103\u001b[0m         \u001b[39mreturn\u001b[39;00m \u001b[39mself\u001b[39;49m\u001b[39m.\u001b[39;49m_coordinator\u001b[39m.\u001b[39;49mresult()\n\u001b[0;32m    104\u001b[0m     \u001b[39mexcept\u001b[39;00m \u001b[39mKeyboardInterrupt\u001b[39;00m \u001b[39mas\u001b[39;00m e:\n\u001b[0;32m    105\u001b[0m         \u001b[39mself\u001b[39m\u001b[39m.\u001b[39mcancel()\n",
      "File \u001b[1;32mc:\\jupyter\\python3114\\Lib\\site-packages\\s3transfer\\futures.py:266\u001b[0m, in \u001b[0;36mTransferCoordinator.result\u001b[1;34m(self)\u001b[0m\n\u001b[0;32m    263\u001b[0m \u001b[39m# Once done waiting, raise an exception if present or return the\u001b[39;00m\n\u001b[0;32m    264\u001b[0m \u001b[39m# final result.\u001b[39;00m\n\u001b[0;32m    265\u001b[0m \u001b[39mif\u001b[39;00m \u001b[39mself\u001b[39m\u001b[39m.\u001b[39m_exception:\n\u001b[1;32m--> 266\u001b[0m     \u001b[39mraise\u001b[39;00m \u001b[39mself\u001b[39m\u001b[39m.\u001b[39m_exception\n\u001b[0;32m    267\u001b[0m \u001b[39mreturn\u001b[39;00m \u001b[39mself\u001b[39m\u001b[39m.\u001b[39m_result\n",
      "File \u001b[1;32mc:\\jupyter\\python3114\\Lib\\site-packages\\s3transfer\\tasks.py:139\u001b[0m, in \u001b[0;36mTask.__call__\u001b[1;34m(self)\u001b[0m\n\u001b[0;32m    135\u001b[0m     \u001b[39m# If the task is not done (really only if some other related\u001b[39;00m\n\u001b[0;32m    136\u001b[0m     \u001b[39m# task to the TransferFuture had failed) then execute the task's\u001b[39;00m\n\u001b[0;32m    137\u001b[0m     \u001b[39m# main() method.\u001b[39;00m\n\u001b[0;32m    138\u001b[0m     \u001b[39mif\u001b[39;00m \u001b[39mnot\u001b[39;00m \u001b[39mself\u001b[39m\u001b[39m.\u001b[39m_transfer_coordinator\u001b[39m.\u001b[39mdone():\n\u001b[1;32m--> 139\u001b[0m         \u001b[39mreturn\u001b[39;00m \u001b[39mself\u001b[39;49m\u001b[39m.\u001b[39;49m_execute_main(kwargs)\n\u001b[0;32m    140\u001b[0m \u001b[39mexcept\u001b[39;00m \u001b[39mException\u001b[39;00m \u001b[39mas\u001b[39;00m e:\n\u001b[0;32m    141\u001b[0m     \u001b[39mself\u001b[39m\u001b[39m.\u001b[39m_log_and_set_exception(e)\n",
      "File \u001b[1;32mc:\\jupyter\\python3114\\Lib\\site-packages\\s3transfer\\tasks.py:162\u001b[0m, in \u001b[0;36mTask._execute_main\u001b[1;34m(self, kwargs)\u001b[0m\n\u001b[0;32m    159\u001b[0m \u001b[39m# Log what is about to be executed.\u001b[39;00m\n\u001b[0;32m    160\u001b[0m logger\u001b[39m.\u001b[39mdebug(\u001b[39mf\u001b[39m\u001b[39m\"\u001b[39m\u001b[39mExecuting task \u001b[39m\u001b[39m{\u001b[39;00m\u001b[39mself\u001b[39m\u001b[39m}\u001b[39;00m\u001b[39m with kwargs \u001b[39m\u001b[39m{\u001b[39;00mkwargs_to_display\u001b[39m}\u001b[39;00m\u001b[39m\"\u001b[39m)\n\u001b[1;32m--> 162\u001b[0m return_value \u001b[39m=\u001b[39m \u001b[39mself\u001b[39;49m\u001b[39m.\u001b[39;49m_main(\u001b[39m*\u001b[39;49m\u001b[39m*\u001b[39;49mkwargs)\n\u001b[0;32m    163\u001b[0m \u001b[39m# If the task is the final task, then set the TransferFuture's\u001b[39;00m\n\u001b[0;32m    164\u001b[0m \u001b[39m# value to the return value from main().\u001b[39;00m\n\u001b[0;32m    165\u001b[0m \u001b[39mif\u001b[39;00m \u001b[39mself\u001b[39m\u001b[39m.\u001b[39m_is_final:\n",
      "File \u001b[1;32mc:\\jupyter\\python3114\\Lib\\site-packages\\s3transfer\\upload.py:758\u001b[0m, in \u001b[0;36mPutObjectTask._main\u001b[1;34m(self, client, fileobj, bucket, key, extra_args)\u001b[0m\n\u001b[0;32m    749\u001b[0m \u001b[39m\u001b[39m\u001b[39m\"\"\"\u001b[39;00m\n\u001b[0;32m    750\u001b[0m \u001b[39m:param client: The client to use when calling PutObject\u001b[39;00m\n\u001b[0;32m    751\u001b[0m \u001b[39m:param fileobj: The file to upload.\u001b[39;00m\n\u001b[1;32m   (...)\u001b[0m\n\u001b[0;32m    755\u001b[0m \u001b[39m    used in the upload.\u001b[39;00m\n\u001b[0;32m    756\u001b[0m \u001b[39m\"\"\"\u001b[39;00m\n\u001b[0;32m    757\u001b[0m \u001b[39mwith\u001b[39;00m fileobj \u001b[39mas\u001b[39;00m body:\n\u001b[1;32m--> 758\u001b[0m     client\u001b[39m.\u001b[39;49mput_object(Bucket\u001b[39m=\u001b[39;49mbucket, Key\u001b[39m=\u001b[39;49mkey, Body\u001b[39m=\u001b[39;49mbody, \u001b[39m*\u001b[39;49m\u001b[39m*\u001b[39;49mextra_args)\n",
      "File \u001b[1;32mc:\\jupyter\\python3114\\Lib\\site-packages\\botocore\\client.py:535\u001b[0m, in \u001b[0;36mClientCreator._create_api_method.<locals>._api_call\u001b[1;34m(self, *args, **kwargs)\u001b[0m\n\u001b[0;32m    531\u001b[0m     \u001b[39mraise\u001b[39;00m \u001b[39mTypeError\u001b[39;00m(\n\u001b[0;32m    532\u001b[0m         \u001b[39mf\u001b[39m\u001b[39m\"\u001b[39m\u001b[39m{\u001b[39;00mpy_operation_name\u001b[39m}\u001b[39;00m\u001b[39m() only accepts keyword arguments.\u001b[39m\u001b[39m\"\u001b[39m\n\u001b[0;32m    533\u001b[0m     )\n\u001b[0;32m    534\u001b[0m \u001b[39m# The \"self\" in this scope is referring to the BaseClient.\u001b[39;00m\n\u001b[1;32m--> 535\u001b[0m \u001b[39mreturn\u001b[39;00m \u001b[39mself\u001b[39;49m\u001b[39m.\u001b[39;49m_make_api_call(operation_name, kwargs)\n",
      "File \u001b[1;32mc:\\jupyter\\python3114\\Lib\\site-packages\\botocore\\client.py:963\u001b[0m, in \u001b[0;36mBaseClient._make_api_call\u001b[1;34m(self, operation_name, api_params)\u001b[0m\n\u001b[0;32m    959\u001b[0m     maybe_compress_request(\n\u001b[0;32m    960\u001b[0m         \u001b[39mself\u001b[39m\u001b[39m.\u001b[39mmeta\u001b[39m.\u001b[39mconfig, request_dict, operation_model\n\u001b[0;32m    961\u001b[0m     )\n\u001b[0;32m    962\u001b[0m     apply_request_checksum(request_dict)\n\u001b[1;32m--> 963\u001b[0m     http, parsed_response \u001b[39m=\u001b[39m \u001b[39mself\u001b[39;49m\u001b[39m.\u001b[39;49m_make_request(\n\u001b[0;32m    964\u001b[0m         operation_model, request_dict, request_context\n\u001b[0;32m    965\u001b[0m     )\n\u001b[0;32m    967\u001b[0m \u001b[39mself\u001b[39m\u001b[39m.\u001b[39mmeta\u001b[39m.\u001b[39mevents\u001b[39m.\u001b[39memit(\n\u001b[0;32m    968\u001b[0m     \u001b[39m'\u001b[39m\u001b[39mafter-call.\u001b[39m\u001b[39m{service_id}\u001b[39;00m\u001b[39m.\u001b[39m\u001b[39m{operation_name}\u001b[39;00m\u001b[39m'\u001b[39m\u001b[39m.\u001b[39mformat(\n\u001b[0;32m    969\u001b[0m         service_id\u001b[39m=\u001b[39mservice_id, operation_name\u001b[39m=\u001b[39moperation_name\n\u001b[1;32m   (...)\u001b[0m\n\u001b[0;32m    974\u001b[0m     context\u001b[39m=\u001b[39mrequest_context,\n\u001b[0;32m    975\u001b[0m )\n\u001b[0;32m    977\u001b[0m \u001b[39mif\u001b[39;00m http\u001b[39m.\u001b[39mstatus_code \u001b[39m>\u001b[39m\u001b[39m=\u001b[39m \u001b[39m300\u001b[39m:\n",
      "File \u001b[1;32mc:\\jupyter\\python3114\\Lib\\site-packages\\botocore\\client.py:986\u001b[0m, in \u001b[0;36mBaseClient._make_request\u001b[1;34m(self, operation_model, request_dict, request_context)\u001b[0m\n\u001b[0;32m    984\u001b[0m \u001b[39mdef\u001b[39;00m \u001b[39m_make_request\u001b[39m(\u001b[39mself\u001b[39m, operation_model, request_dict, request_context):\n\u001b[0;32m    985\u001b[0m     \u001b[39mtry\u001b[39;00m:\n\u001b[1;32m--> 986\u001b[0m         \u001b[39mreturn\u001b[39;00m \u001b[39mself\u001b[39;49m\u001b[39m.\u001b[39;49m_endpoint\u001b[39m.\u001b[39;49mmake_request(operation_model, request_dict)\n\u001b[0;32m    987\u001b[0m     \u001b[39mexcept\u001b[39;00m \u001b[39mException\u001b[39;00m \u001b[39mas\u001b[39;00m e:\n\u001b[0;32m    988\u001b[0m         \u001b[39mself\u001b[39m\u001b[39m.\u001b[39mmeta\u001b[39m.\u001b[39mevents\u001b[39m.\u001b[39memit(\n\u001b[0;32m    989\u001b[0m             \u001b[39m'\u001b[39m\u001b[39mafter-call-error.\u001b[39m\u001b[39m{service_id}\u001b[39;00m\u001b[39m.\u001b[39m\u001b[39m{operation_name}\u001b[39;00m\u001b[39m'\u001b[39m\u001b[39m.\u001b[39mformat(\n\u001b[0;32m    990\u001b[0m                 service_id\u001b[39m=\u001b[39m\u001b[39mself\u001b[39m\u001b[39m.\u001b[39m_service_model\u001b[39m.\u001b[39mservice_id\u001b[39m.\u001b[39mhyphenize(),\n\u001b[1;32m   (...)\u001b[0m\n\u001b[0;32m    994\u001b[0m             context\u001b[39m=\u001b[39mrequest_context,\n\u001b[0;32m    995\u001b[0m         )\n",
      "File \u001b[1;32mc:\\jupyter\\python3114\\Lib\\site-packages\\botocore\\endpoint.py:119\u001b[0m, in \u001b[0;36mEndpoint.make_request\u001b[1;34m(self, operation_model, request_dict)\u001b[0m\n\u001b[0;32m    113\u001b[0m \u001b[39mdef\u001b[39;00m \u001b[39mmake_request\u001b[39m(\u001b[39mself\u001b[39m, operation_model, request_dict):\n\u001b[0;32m    114\u001b[0m     logger\u001b[39m.\u001b[39mdebug(\n\u001b[0;32m    115\u001b[0m         \u001b[39m\"\u001b[39m\u001b[39mMaking request for \u001b[39m\u001b[39m%s\u001b[39;00m\u001b[39m with params: \u001b[39m\u001b[39m%s\u001b[39;00m\u001b[39m\"\u001b[39m,\n\u001b[0;32m    116\u001b[0m         operation_model,\n\u001b[0;32m    117\u001b[0m         request_dict,\n\u001b[0;32m    118\u001b[0m     )\n\u001b[1;32m--> 119\u001b[0m     \u001b[39mreturn\u001b[39;00m \u001b[39mself\u001b[39;49m\u001b[39m.\u001b[39;49m_send_request(request_dict, operation_model)\n",
      "File \u001b[1;32mc:\\jupyter\\python3114\\Lib\\site-packages\\botocore\\endpoint.py:198\u001b[0m, in \u001b[0;36mEndpoint._send_request\u001b[1;34m(self, request_dict, operation_model)\u001b[0m\n\u001b[0;32m    196\u001b[0m context \u001b[39m=\u001b[39m request_dict[\u001b[39m'\u001b[39m\u001b[39mcontext\u001b[39m\u001b[39m'\u001b[39m]\n\u001b[0;32m    197\u001b[0m \u001b[39mself\u001b[39m\u001b[39m.\u001b[39m_update_retries_context(context, attempts)\n\u001b[1;32m--> 198\u001b[0m request \u001b[39m=\u001b[39m \u001b[39mself\u001b[39;49m\u001b[39m.\u001b[39;49mcreate_request(request_dict, operation_model)\n\u001b[0;32m    199\u001b[0m success_response, exception \u001b[39m=\u001b[39m \u001b[39mself\u001b[39m\u001b[39m.\u001b[39m_get_response(\n\u001b[0;32m    200\u001b[0m     request, operation_model, context\n\u001b[0;32m    201\u001b[0m )\n\u001b[0;32m    202\u001b[0m \u001b[39mwhile\u001b[39;00m \u001b[39mself\u001b[39m\u001b[39m.\u001b[39m_needs_retry(\n\u001b[0;32m    203\u001b[0m     attempts,\n\u001b[0;32m    204\u001b[0m     operation_model,\n\u001b[1;32m   (...)\u001b[0m\n\u001b[0;32m    207\u001b[0m     exception,\n\u001b[0;32m    208\u001b[0m ):\n",
      "File \u001b[1;32mc:\\jupyter\\python3114\\Lib\\site-packages\\botocore\\endpoint.py:134\u001b[0m, in \u001b[0;36mEndpoint.create_request\u001b[1;34m(self, params, operation_model)\u001b[0m\n\u001b[0;32m    130\u001b[0m     service_id \u001b[39m=\u001b[39m operation_model\u001b[39m.\u001b[39mservice_model\u001b[39m.\u001b[39mservice_id\u001b[39m.\u001b[39mhyphenize()\n\u001b[0;32m    131\u001b[0m     event_name \u001b[39m=\u001b[39m \u001b[39m'\u001b[39m\u001b[39mrequest-created.\u001b[39m\u001b[39m{service_id}\u001b[39;00m\u001b[39m.\u001b[39m\u001b[39m{op_name}\u001b[39;00m\u001b[39m'\u001b[39m\u001b[39m.\u001b[39mformat(\n\u001b[0;32m    132\u001b[0m         service_id\u001b[39m=\u001b[39mservice_id, op_name\u001b[39m=\u001b[39moperation_model\u001b[39m.\u001b[39mname\n\u001b[0;32m    133\u001b[0m     )\n\u001b[1;32m--> 134\u001b[0m     \u001b[39mself\u001b[39;49m\u001b[39m.\u001b[39;49m_event_emitter\u001b[39m.\u001b[39;49memit(\n\u001b[0;32m    135\u001b[0m         event_name,\n\u001b[0;32m    136\u001b[0m         request\u001b[39m=\u001b[39;49mrequest,\n\u001b[0;32m    137\u001b[0m         operation_name\u001b[39m=\u001b[39;49moperation_model\u001b[39m.\u001b[39;49mname,\n\u001b[0;32m    138\u001b[0m     )\n\u001b[0;32m    139\u001b[0m prepared_request \u001b[39m=\u001b[39m \u001b[39mself\u001b[39m\u001b[39m.\u001b[39mprepare_request(request)\n\u001b[0;32m    140\u001b[0m \u001b[39mreturn\u001b[39;00m prepared_request\n",
      "File \u001b[1;32mc:\\jupyter\\python3114\\Lib\\site-packages\\botocore\\hooks.py:412\u001b[0m, in \u001b[0;36mEventAliaser.emit\u001b[1;34m(self, event_name, **kwargs)\u001b[0m\n\u001b[0;32m    410\u001b[0m \u001b[39mdef\u001b[39;00m \u001b[39memit\u001b[39m(\u001b[39mself\u001b[39m, event_name, \u001b[39m*\u001b[39m\u001b[39m*\u001b[39mkwargs):\n\u001b[0;32m    411\u001b[0m     aliased_event_name \u001b[39m=\u001b[39m \u001b[39mself\u001b[39m\u001b[39m.\u001b[39m_alias_event_name(event_name)\n\u001b[1;32m--> 412\u001b[0m     \u001b[39mreturn\u001b[39;00m \u001b[39mself\u001b[39;49m\u001b[39m.\u001b[39;49m_emitter\u001b[39m.\u001b[39;49memit(aliased_event_name, \u001b[39m*\u001b[39;49m\u001b[39m*\u001b[39;49mkwargs)\n",
      "File \u001b[1;32mc:\\jupyter\\python3114\\Lib\\site-packages\\botocore\\hooks.py:256\u001b[0m, in \u001b[0;36mHierarchicalEmitter.emit\u001b[1;34m(self, event_name, **kwargs)\u001b[0m\n\u001b[0;32m    245\u001b[0m \u001b[39mdef\u001b[39;00m \u001b[39memit\u001b[39m(\u001b[39mself\u001b[39m, event_name, \u001b[39m*\u001b[39m\u001b[39m*\u001b[39mkwargs):\n\u001b[0;32m    246\u001b[0m \u001b[39m    \u001b[39m\u001b[39m\"\"\"\u001b[39;00m\n\u001b[0;32m    247\u001b[0m \u001b[39m    Emit an event by name with arguments passed as keyword args.\u001b[39;00m\n\u001b[0;32m    248\u001b[0m \n\u001b[1;32m   (...)\u001b[0m\n\u001b[0;32m    254\u001b[0m \u001b[39m             handlers.\u001b[39;00m\n\u001b[0;32m    255\u001b[0m \u001b[39m    \"\"\"\u001b[39;00m\n\u001b[1;32m--> 256\u001b[0m     \u001b[39mreturn\u001b[39;00m \u001b[39mself\u001b[39;49m\u001b[39m.\u001b[39;49m_emit(event_name, kwargs)\n",
      "File \u001b[1;32mc:\\jupyter\\python3114\\Lib\\site-packages\\botocore\\hooks.py:239\u001b[0m, in \u001b[0;36mHierarchicalEmitter._emit\u001b[1;34m(self, event_name, kwargs, stop_on_response)\u001b[0m\n\u001b[0;32m    237\u001b[0m \u001b[39mfor\u001b[39;00m handler \u001b[39min\u001b[39;00m handlers_to_call:\n\u001b[0;32m    238\u001b[0m     logger\u001b[39m.\u001b[39mdebug(\u001b[39m'\u001b[39m\u001b[39mEvent \u001b[39m\u001b[39m%s\u001b[39;00m\u001b[39m: calling handler \u001b[39m\u001b[39m%s\u001b[39;00m\u001b[39m'\u001b[39m, event_name, handler)\n\u001b[1;32m--> 239\u001b[0m     response \u001b[39m=\u001b[39m handler(\u001b[39m*\u001b[39;49m\u001b[39m*\u001b[39;49mkwargs)\n\u001b[0;32m    240\u001b[0m     responses\u001b[39m.\u001b[39mappend((handler, response))\n\u001b[0;32m    241\u001b[0m     \u001b[39mif\u001b[39;00m stop_on_response \u001b[39mand\u001b[39;00m response \u001b[39mis\u001b[39;00m \u001b[39mnot\u001b[39;00m \u001b[39mNone\u001b[39;00m:\n",
      "File \u001b[1;32mc:\\jupyter\\python3114\\Lib\\site-packages\\botocore\\signers.py:105\u001b[0m, in \u001b[0;36mRequestSigner.handler\u001b[1;34m(self, operation_name, request, **kwargs)\u001b[0m\n\u001b[0;32m    100\u001b[0m \u001b[39mdef\u001b[39;00m \u001b[39mhandler\u001b[39m(\u001b[39mself\u001b[39m, operation_name\u001b[39m=\u001b[39m\u001b[39mNone\u001b[39;00m, request\u001b[39m=\u001b[39m\u001b[39mNone\u001b[39;00m, \u001b[39m*\u001b[39m\u001b[39m*\u001b[39mkwargs):\n\u001b[0;32m    101\u001b[0m     \u001b[39m# This is typically hooked up to the \"request-created\" event\u001b[39;00m\n\u001b[0;32m    102\u001b[0m     \u001b[39m# from a client's event emitter.  When a new request is created\u001b[39;00m\n\u001b[0;32m    103\u001b[0m     \u001b[39m# this method is invoked to sign the request.\u001b[39;00m\n\u001b[0;32m    104\u001b[0m     \u001b[39m# Don't call this method directly.\u001b[39;00m\n\u001b[1;32m--> 105\u001b[0m     \u001b[39mreturn\u001b[39;00m \u001b[39mself\u001b[39;49m\u001b[39m.\u001b[39;49msign(operation_name, request)\n",
      "File \u001b[1;32mc:\\jupyter\\python3114\\Lib\\site-packages\\botocore\\signers.py:189\u001b[0m, in \u001b[0;36mRequestSigner.sign\u001b[1;34m(self, operation_name, request, region_name, signing_type, expires_in, signing_name)\u001b[0m\n\u001b[0;32m    186\u001b[0m     \u001b[39melse\u001b[39;00m:\n\u001b[0;32m    187\u001b[0m         \u001b[39mraise\u001b[39;00m e\n\u001b[1;32m--> 189\u001b[0m auth\u001b[39m.\u001b[39;49madd_auth(request)\n",
      "File \u001b[1;32mc:\\jupyter\\python3114\\Lib\\site-packages\\botocore\\auth.py:418\u001b[0m, in \u001b[0;36mSigV4Auth.add_auth\u001b[1;34m(self, request)\u001b[0m\n\u001b[0;32m    416\u001b[0m \u001b[39mdef\u001b[39;00m \u001b[39madd_auth\u001b[39m(\u001b[39mself\u001b[39m, request):\n\u001b[0;32m    417\u001b[0m     \u001b[39mif\u001b[39;00m \u001b[39mself\u001b[39m\u001b[39m.\u001b[39mcredentials \u001b[39mis\u001b[39;00m \u001b[39mNone\u001b[39;00m:\n\u001b[1;32m--> 418\u001b[0m         \u001b[39mraise\u001b[39;00m NoCredentialsError()\n\u001b[0;32m    419\u001b[0m     datetime_now \u001b[39m=\u001b[39m datetime\u001b[39m.\u001b[39mdatetime\u001b[39m.\u001b[39mutcnow()\n\u001b[0;32m    420\u001b[0m     request\u001b[39m.\u001b[39mcontext[\u001b[39m'\u001b[39m\u001b[39mtimestamp\u001b[39m\u001b[39m'\u001b[39m] \u001b[39m=\u001b[39m datetime_now\u001b[39m.\u001b[39mstrftime(SIGV4_TIMESTAMP)\n",
      "\u001b[1;31mNoCredentialsError\u001b[0m: Unable to locate credentials"
     ]
    }
   ],
   "source": [
    "with mlflow.start_run(run_name='taras_test'):\n",
    "    class_weight = \"balanced\"\n",
    "    max_iter = 1500\n",
    "    solver = 'lbfgs'\n",
    "    # solver{‘lbfgs’, ‘liblinear’, ‘newton-cg’, ‘newton-cholesky’, ‘sag’, ‘saga’}\n",
    "\n",
    "    logistic_regression = LogisticRegression(class_weight=class_weight, max_iter=max_iter, solver=solver)\n",
    "    logistic_regression.fit(x_train, y_train)\n",
    "\n",
    "    y_pred = logistic_regression.predict(x_test)\n",
    "\n",
    "    accuracy = accuracy_score(y_test, y_pred)\n",
    "    precision = precision_score(y_test, y_pred)\n",
    "    recall = recall_score(y_test, y_pred)\n",
    "    f1 = f1_score(y_test, y_pred)\n",
    "    auc = roc_auc_score(y_test, y_pred)\n",
    "    \n",
    "    mlflow.log_param(\"class_weight\", class_weight)\n",
    "    mlflow.log_param(\"max_iter\", max_iter)\n",
    "    mlflow.log_param(\"solver\", solver)\n",
    "    \n",
    "    mlflow.log_metric(\"accuracy\", accuracy)\n",
    "    mlflow.log_metric(\"precision\", precision)\n",
    "    mlflow.log_metric(\"recall\", recall)\n",
    "    mlflow.log_metric(\"f1\", f1)\n",
    "    mlflow.log_metric(\"auc\", auc) \n",
    "    \n",
    "    mlflow.sklearn.log_model(logistic_regression, \"taras_test\")"
   ]
  }
 ],
 "metadata": {
  "kernelspec": {
   "display_name": "Python 3 (ipykernel)",
   "language": "python",
   "name": "python3"
  },
  "language_info": {
   "codemirror_mode": {
    "name": "ipython",
    "version": 3
   },
   "file_extension": ".py",
   "mimetype": "text/x-python",
   "name": "python",
   "nbconvert_exporter": "python",
   "pygments_lexer": "ipython3",
   "version": "3.11.4"
  }
 },
 "nbformat": 4,
 "nbformat_minor": 5
}
